{
 "cells": [
  {
   "cell_type": "markdown",
   "metadata": {},
   "source": [
    "## Self Balancing Robot in PyBullet\n",
    "**Balance and control of a 2-wheeled robot simulated with PyBullet Physics library**\n",
    "<br>V1: Step by Step Loading and Simulation"
   ]
  },
  {
   "cell_type": "markdown",
   "metadata": {},
   "source": [
    "Importing Required Libraries"
   ]
  },
  {
   "cell_type": "code",
   "execution_count": 1,
   "metadata": {},
   "outputs": [],
   "source": [
    "import pybullet\n",
    "import time\n",
    "import pybullet_data\n",
    "import numpy as np\n",
    "import matplotlib.pyplot as plt\n",
    "import gym\n",
    "from gym import spaces"
   ]
  },
  {
   "cell_type": "markdown",
   "metadata": {},
   "source": [
    "Loading Physics Environment"
   ]
  },
  {
   "cell_type": "code",
   "execution_count": 2,
   "metadata": {},
   "outputs": [],
   "source": [
    "phisycsClient = pybullet.connect(pybullet.GUI)\n",
    "pybullet.setAdditionalSearchPath(pybullet_data.getDataPath())"
   ]
  },
  {
   "cell_type": "markdown",
   "metadata": {},
   "source": [
    "Resetting Environment"
   ]
  },
  {
   "cell_type": "code",
   "execution_count": 19,
   "metadata": {},
   "outputs": [],
   "source": [
    "pybullet.resetSimulation()\n",
    "planeID = pybullet.loadURDF(\"plane.urdf\")\n",
    "pybullet.setGravity(0,0,-9.81)\n",
    "robotID = pybullet.loadURDF(\"robot.urdf\",\n",
    "                         [0.6,0.3,0.0],pybullet.getQuaternionFromEuler([0.0,0.0,0.0]),useFixedBase = 0)\n",
    "pybullet.setRealTimeSimulation(0)"
   ]
  },
  {
   "cell_type": "markdown",
   "metadata": {},
   "source": [
    " Discrete Time Simulation"
   ]
  },
  {
   "cell_type": "code",
   "execution_count": 18,
   "metadata": {},
   "outputs": [],
   "source": [
    "for i in range(1000):\n",
    "    pybullet.setJointMotorControl2(bodyUniqueId=robotID, \n",
    "                            jointIndex=0, \n",
    "                            controlMode=pybullet.VELOCITY_CONTROL, \n",
    "                            targetVelocity=+10)\n",
    "    pybullet.setJointMotorControl2(bodyUniqueId=robotID, \n",
    "                            jointIndex=1, \n",
    "                            controlMode=pybullet.VELOCITY_CONTROL, \n",
    "                            targetVelocity=-10)\n",
    "    pybullet.stepSimulation()\n",
    "    time.sleep(1.0/240.0)"
   ]
  },
  {
   "cell_type": "markdown",
   "metadata": {},
   "source": [
    "Real Time Simulation"
   ]
  },
  {
   "cell_type": "code",
   "execution_count": 17,
   "metadata": {},
   "outputs": [],
   "source": [
    "pybullet.setRealTimeSimulation(1)\n",
    "pybullet.setJointMotorControl2(bodyUniqueId=robotID, \n",
    "                        jointIndex=0, \n",
    "                        controlMode=pybullet.VELOCITY_CONTROL, \n",
    "                        targetVelocity=100)\n",
    "pybullet.setJointMotorControl2(bodyUniqueId=robotID, \n",
    "                        jointIndex=1, \n",
    "                        controlMode=pybullet.VELOCITY_CONTROL, \n",
    "                        targetVelocity=100)"
   ]
  },
  {
   "cell_type": "code",
   "execution_count": null,
   "metadata": {},
   "outputs": [],
   "source": [
    "position, orientation = pybullet.getBasePositionAndOrientation(robotID)\n",
    "print('Positions:\\n',position)\n",
    "print('Orientation:\\n',pybullet.getEulerFromQuaternion(orientation))"
   ]
  },
  {
   "cell_type": "markdown",
   "metadata": {},
   "source": [
    "PID Controller"
   ]
  },
  {
   "cell_type": "code",
   "execution_count": 32,
   "metadata": {},
   "outputs": [
    {
     "data": {
      "image/png": "[encoded data removed]",
      "text/plain": [
       "<Figure size 432x288 with 1 Axes>"
      ]
     },
     "metadata": {
      "needs_background": "light"
     },
     "output_type": "display_data"
    }
   ],
   "source": [
    "P, I, D = 650.0, 0.005, 10.0 #Setting Kp, Ki, Kd\n",
    "\n",
    "sim_duration = 0.2 #Simulation Time in Minutes\n",
    "\n",
    "#Initializing PID Variables\n",
    "integral = 0\n",
    "derivative = 0\n",
    "prev_error = 0\n",
    "\n",
    "desired_state = 0.0\n",
    "start_time = time.time()\n",
    "\n",
    "pybullet.setRealTimeSimulation(1)\n",
    "\n",
    "error_history = list('')\n",
    "\n",
    "while(((time.time() - start_time)/60) < sim_duration):\n",
    "    position, orientation = pybullet.getBasePositionAndOrientation(robotID)\n",
    "    state = pybullet.getEulerFromQuaternion(orientation)[0]\n",
    "    error = state - desired_state\n",
    "\n",
    "    integral += error\n",
    "    derivative = error - prev_error\n",
    "    prev_error = error\n",
    "\n",
    "    motion = (P * error + I * integral + D * derivative)\n",
    "    \n",
    "    \n",
    "    error_history.append(error)\n",
    "    pybullet.setJointMotorControl2(bodyUniqueId=robotID, \n",
    "                        jointIndex=0, \n",
    "                        controlMode=pybullet.VELOCITY_CONTROL, \n",
    "                        targetVelocity = motion)\n",
    "    pybullet.setJointMotorControl2(bodyUniqueId=robotID, \n",
    "                        jointIndex=1, \n",
    "                        controlMode=pybullet.VELOCITY_CONTROL, \n",
    "                        targetVelocity = motion)\n",
    "\n",
    "################################## Ploting Error################################\n",
    "pybullet.resetSimulation()\n",
    "plt.plot(error_history)\n",
    "plt.show()\n",
    "###################### Reseting Environment after simulation#####################\n",
    "pybullet.resetSimulation()\n",
    "planeID = pybullet.loadURDF(\"plane.urdf\")\n",
    "pybullet.setGravity(0,0,-9.81)\n",
    "robotID = pybullet.loadURDF(\"robot.urdf\",\n",
    "                         [0.0,0.0,0.0],pybullet.getQuaternionFromEuler([0.0,0.0,0.0]),useFixedBase = 0)\n",
    "pybullet.setRealTimeSimulation(0)"
   ]
  },
  {
   "cell_type": "code",
   "execution_count": 36,
   "metadata": {},
   "outputs": [
    {
     "data": {
      "image/png": "[encoded data removed]",
      "text/plain": [
       "<Figure size 432x288 with 1 Axes>"
      ]
     },
     "metadata": {
      "needs_background": "light"
     },
     "output_type": "display_data"
    }
   ],
   "source": [
    "P, I, D = 650.0, 0.005, 10.0 #Setting Kp, Ki, Kd\\n\",\n",
    "\n",
    "#Initializing PID Variables\n",
    "integral = 0\n",
    "derivative = 0\n",
    "prev_error = 0\n",
    "   \n",
    "desired_state = 0.0 # Holding robot in vertical state\n",
    "pybullet.setRealTimeSimulation(0)\n",
    "\n",
    "error_history = list('')\n",
    "\n",
    "for _ in range(5000):\n",
    "    pybullet.stepSimulation()\n",
    "    time.sleep(1.0/240.0)\n",
    "    position, orientation = pybullet.getBasePositionAndOrientation(robotID)\n",
    "    state = pybullet.getEulerFromQuaternion(orientation)[0]\n",
    "    error = state - desired_state\n",
    "\n",
    "    integral += error\n",
    "    derivative = error - prev_error\n",
    "    prev_error = error\n",
    "\n",
    "    motion = (P * error + I * integral + D * derivative)\n",
    "\n",
    "    pybullet.setJointMotorControl2(bodyUniqueId=robotID, \n",
    "                        jointIndex=0, \n",
    "                        controlMode=pybullet.VELOCITY_CONTROL,\n",
    "                        targetVelocity = motion)\n",
    "    pybullet.setJointMotorControl2(bodyUniqueId=robotID, \n",
    "                        jointIndex=1, \n",
    "                        controlMode=pybullet.VELOCITY_CONTROL,\n",
    "                        targetVelocity = motion)\n",
    "    # Applying External Force\\n\",\n",
    "    if _ == 1000:\n",
    "        pybullet.applyExternalForce(robotID, 0, forceObj = (0,100,0),\n",
    "                                    posObj = (0.0, 0.0, 0.0), \n",
    "                                    flags = pybullet.LINK_FRAME)\n",
    "    error_history.append(error)\n",
    "\n",
    "################################## Ploting Error################################\n",
    "pybullet.resetSimulation()\n",
    "plt.plot(error_history)\n",
    "plt.show()\n",
    "###################### Reseting Environment after simulation#####################\n",
    "pybullet.resetSimulation()\n",
    "planeID = pybullet.loadURDF(\"plane.urdf\")\n",
    "pybullet.setGravity(0,0,-9.81)\n",
    "robotID = pybullet.loadURDF(\"robot.urdf\",\n",
    "                         [0.0,0.0,0.0],pybullet.getQuaternionFromEuler([0.0,0.0,0.0]),useFixedBase = 0)"
   ]
  }
 ],
 "metadata": {
  "kernelspec": {
   "display_name": "Python 3",
   "language": "python",
   "name": "python3"
  },
  "language_info": {
   "codemirror_mode": {
    "name": "ipython",
    "version": 3
   },
   "file_extension": ".py",
   "mimetype": "text/x-python",
   "name": "python",
   "nbconvert_exporter": "python",
   "pygments_lexer": "ipython3",
   "version": "3.7.6"
  }
 },
 "nbformat": 4,
 "nbformat_minor": 4
}
